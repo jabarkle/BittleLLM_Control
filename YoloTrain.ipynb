{
 "cells": [
  {
   "cell_type": "code",
   "execution_count": null,
   "metadata": {},
   "outputs": [
    {
     "name": "stdout",
     "output_type": "stream",
     "text": [
      "GPU Name: NVIDIA GeForce RTX 4060 Laptop GPU\n",
      "CUDA Version: 12.1\n"
     ]
    }
   ],
   "source": [
    "from ultralytics import YOLO\n",
    "\n",
    "# Load YOLOv8 model (Nano version for speed)\n",
    "model = YOLO(\"yolov8n.pt\")  \n",
    "\n",
    "# Train the model on your dataset\n",
    "model.train(\n",
    "    data=\"data.yaml\",  # Path to data config file\n",
    "    epochs=50,         # Number of training epochs\n",
    "    imgsz=640,         # Image size\n",
    "    batch=16,          # Batch size\n",
    "    device=0           # Use GPU (0) or CPU (-1)\n",
    ")\n",
    "\n",
    "# Save the best model\n",
    "print(\"Training Complete! Best model saved at:\", model.ckpt_path)\n"
   ]
  }
 ],
 "metadata": {
  "kernelspec": {
   "display_name": "yolo_env",
   "language": "python",
   "name": "python3"
  },
  "language_info": {
   "codemirror_mode": {
    "name": "ipython",
    "version": 3
   },
   "file_extension": ".py",
   "mimetype": "text/x-python",
   "name": "python",
   "nbconvert_exporter": "python",
   "pygments_lexer": "ipython3",
   "version": "3.12.4"
  }
 },
 "nbformat": 4,
 "nbformat_minor": 2
}
